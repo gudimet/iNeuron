{
 "cells": [
  {
   "cell_type": "markdown",
   "metadata": {},
   "source": [
    "Task: Inherit values ffrom same named functions from two classes(A&B) in a thrid class(c)"
   ]
  },
  {
   "cell_type": "code",
   "execution_count": 56,
   "metadata": {},
   "outputs": [
    {
     "data": {
      "text/plain": [
       "'test'"
      ]
     },
     "execution_count": 56,
     "metadata": {},
     "output_type": "execute_result"
    }
   ],
   "source": [
    "class A:\n",
    "    def __init__(self,name):\n",
    "        self.name=name\n",
    "        \n",
    "    def test(self):\n",
    "        return self.name\n",
    "        \n",
    "class B:\n",
    "        \n",
    "    def __init__(self,age):\n",
    "        self.age=age\n",
    "        \n",
    "    def test(self):\n",
    "        #super().test()\n",
    "        return self.age\n",
    "        \n",
    "class c(B,A):\n",
    "    \n",
    "    def __init__(self,name,age):\n",
    "        B.__init__(self,age)\n",
    "        A.__init__(self,name)\n",
    "    def chk(self,F1=1,F2=0):\n",
    "        if F1:\n",
    "            return A.test(self)\n",
    "        else:\n",
    "            return B.test(self)\n",
    "\n",
    "\n",
    "obj=c('test',30)\n",
    "obj.chk(F1=0,F2=1)\n"
   ]
  },
  {
   "cell_type": "code",
   "execution_count": 58,
   "metadata": {},
   "outputs": [
    {
     "data": {
      "text/plain": [
       "30"
      ]
     },
     "execution_count": 58,
     "metadata": {},
     "output_type": "execute_result"
    }
   ],
   "source": [
    "obj.chk(F1=0,F2=1)"
   ]
  }
 ],
 "metadata": {
  "kernelspec": {
   "display_name": "Python 3",
   "language": "python",
   "name": "python3"
  },
  "language_info": {
   "codemirror_mode": {
    "name": "ipython",
    "version": 3
   },
   "file_extension": ".py",
   "mimetype": "text/x-python",
   "name": "python",
   "nbconvert_exporter": "python",
   "pygments_lexer": "ipython3",
   "version": "3.7.6"
  }
 },
 "nbformat": 4,
 "nbformat_minor": 4
}
