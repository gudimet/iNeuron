{
 "cells": [
  {
   "cell_type": "markdown",
   "metadata": {},
   "source": [
    "Task: Inherit values ffrom same named functions from two classes(A&B) in a thrid class(c)"
   ]
  },
  {
   "cell_type": "code",
   "execution_count": 22,
   "metadata": {},
   "outputs": [
    {
     "name": "stdout",
     "output_type": "stream",
     "text": [
      "test\n",
      "30\n"
     ]
    }
   ],
   "source": [
    "class A:\n",
    "    def __init__(self,name):\n",
    "        self.name=name\n",
    "        \n",
    "    def test(self):\n",
    "        print(self.name)\n",
    "        \n",
    "class B:\n",
    "        \n",
    "    def __init__(self,age):\n",
    "        self.age=age\n",
    "        \n",
    "    def test(self):\n",
    "        super().test()\n",
    "        print(self.age)\n",
    "        \n",
    "class c(B,A):\n",
    "     def __init__(self,name,age):\n",
    "            B.__init__(self,age)\n",
    "            A.__init__(self,name)\n",
    "\n",
    "\n",
    "obj=c('test',30)\n",
    "obj.test()\n"
   ]
  }
 ],
 "metadata": {
  "kernelspec": {
   "display_name": "Python 3",
   "language": "python",
   "name": "python3"
  },
  "language_info": {
   "codemirror_mode": {
    "name": "ipython",
    "version": 3
   },
   "file_extension": ".py",
   "mimetype": "text/x-python",
   "name": "python",
   "nbconvert_exporter": "python",
   "pygments_lexer": "ipython3",
   "version": "3.7.6"
  }
 },
 "nbformat": 4,
 "nbformat_minor": 4
}
